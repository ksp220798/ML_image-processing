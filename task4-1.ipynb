{
 "cells": [
  {
   "cell_type": "code",
   "execution_count": 1,
   "id": "e8d5f7df",
   "metadata": {},
   "outputs": [],
   "source": [
    "import cv2\n",
    "import numpy as np"
   ]
  },
  {
   "cell_type": "code",
   "execution_count": 2,
   "id": "fec9d907",
   "metadata": {},
   "outputs": [],
   "source": [
    "img = np.zeros((1000,1000,3),np.uint8)\n",
    "hsv = cv2.cvtColor(img,cv2.COLOR_BGR2HSV)"
   ]
  },
  {
   "cell_type": "code",
   "execution_count": 3,
   "id": "80b3220a",
   "metadata": {},
   "outputs": [],
   "source": [
    "img[0:600,0:1000]=[235,206,135]      #sky\n",
    "img[600:1000,0:1000]=[0,255,0]       #land\n",
    "\n",
    "img[200:600,350:650]=[0,0,255]       #building\n",
    "\n",
    "img[220:270,370:430]=[255,255,255]   #windows row1\n",
    "img[220:270,470:530]=[255,255,255]    \n",
    "img[220:270,570:630]=[255,255,255]\n",
    "\n",
    "img[300:350,370:430]=[255,255,255]   #windows row2\n",
    "img[300:350,470:530]=[255,255,255]\n",
    "img[300:350,570:630]=[255,255,255]\n",
    "\n",
    "img[380:430,370:430]=[255,255,255]  #windows row3\n",
    "img[380:430,470:530]=[255,255,255]\n",
    "img[380:430,570:630]=[255,255,255]\n",
    "\n",
    "img[460:510,370:430]=[255,255,255]   #windows row3\n",
    "img[460:510,470:530]=[255,255,255]\n",
    "img[460:510,570:630]=[255,255,255]\n",
    "\n",
    "\n",
    "img[540:590,370:430]=[255,255,255]\n",
    "img[530:596,470:530]=[255,255,255]\n",
    "img[540:590,570:630]=[255,255,255]"
   ]
  },
  {
   "cell_type": "code",
   "execution_count": 4,
   "id": "130622cf",
   "metadata": {},
   "outputs": [],
   "source": [
    "img = cv2.circle(img,(100,100),60,(0,255,255),-1)"
   ]
  },
  {
   "cell_type": "code",
   "execution_count": 5,
   "id": "56fd88f5",
   "metadata": {},
   "outputs": [],
   "source": [
    "#output\n",
    "\n",
    "cv2.imshow('TASK 4.1',img)\n",
    "cv2.waitKey(0)\n",
    "cv2.destroyAllWindows()"
   ]
  },
  {
   "cell_type": "code",
   "execution_count": null,
   "id": "65a8e9a3",
   "metadata": {},
   "outputs": [],
   "source": []
  }
 ],
 "metadata": {
  "kernelspec": {
   "display_name": "Python 3",
   "language": "python",
   "name": "python3"
  },
  "language_info": {
   "codemirror_mode": {
    "name": "ipython",
    "version": 3
   },
   "file_extension": ".py",
   "mimetype": "text/x-python",
   "name": "python",
   "nbconvert_exporter": "python",
   "pygments_lexer": "ipython3",
   "version": "3.9.1"
  }
 },
 "nbformat": 4,
 "nbformat_minor": 5
}
