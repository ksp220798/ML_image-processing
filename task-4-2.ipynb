{
 "cells": [
  {
   "cell_type": "code",
   "execution_count": 115,
   "id": "90364013",
   "metadata": {},
   "outputs": [],
   "source": [
    "import cv2\n",
    "import numpy as np"
   ]
  },
  {
   "cell_type": "code",
   "execution_count": 116,
   "id": "ff85aa9b",
   "metadata": {},
   "outputs": [],
   "source": [
    "#importing image 1\n",
    "\n",
    "photo1=cv2.imread('one.jpg')"
   ]
  },
  {
   "cell_type": "code",
   "execution_count": 117,
   "id": "e531b7fe",
   "metadata": {},
   "outputs": [
    {
     "data": {
      "text/plain": [
       "(567, 850, 3)"
      ]
     },
     "execution_count": 117,
     "metadata": {},
     "output_type": "execute_result"
    }
   ],
   "source": [
    "photo1.shape"
   ]
  },
  {
   "cell_type": "code",
   "execution_count": 118,
   "id": "bf7c8883",
   "metadata": {},
   "outputs": [],
   "source": [
    "cv2.imshow('maahi',photo1)\n",
    "cv2.waitKey()\n",
    "cv2.destroyAllWindows()"
   ]
  },
  {
   "cell_type": "code",
   "execution_count": 119,
   "id": "0789a0b7",
   "metadata": {},
   "outputs": [],
   "source": [
    "photo2=cv2.imread('virat.jpg')"
   ]
  },
  {
   "cell_type": "code",
   "execution_count": 120,
   "id": "7bde717e",
   "metadata": {},
   "outputs": [
    {
     "data": {
      "text/plain": [
       "(574, 473, 3)"
      ]
     },
     "execution_count": 120,
     "metadata": {},
     "output_type": "execute_result"
    }
   ],
   "source": [
    "photo2.shape"
   ]
  },
  {
   "cell_type": "code",
   "execution_count": 121,
   "id": "38ddcd71",
   "metadata": {},
   "outputs": [],
   "source": [
    "cv2.imshow('kohli',photo2)\n",
    "cv2.waitKey()\n",
    "cv2.destroyAllWindows()"
   ]
  },
  {
   "cell_type": "code",
   "execution_count": null,
   "id": "86521b28",
   "metadata": {},
   "outputs": [],
   "source": []
  },
  {
   "cell_type": "code",
   "execution_count": 135,
   "id": "9e2a5c7e",
   "metadata": {},
   "outputs": [],
   "source": [
    "crop_one = photo1[70:315,212:437]"
   ]
  },
  {
   "cell_type": "code",
   "execution_count": 136,
   "id": "98ca2f56",
   "metadata": {},
   "outputs": [
    {
     "data": {
      "text/plain": [
       "(245, 225, 3)"
      ]
     },
     "execution_count": 136,
     "metadata": {},
     "output_type": "execute_result"
    }
   ],
   "source": [
    "crop_one.shape"
   ]
  },
  {
   "cell_type": "code",
   "execution_count": 137,
   "id": "e264327d",
   "metadata": {},
   "outputs": [],
   "source": [
    "cv2.imshow('crop',crop_one)\n",
    "cv2.waitKey()\n",
    "cv2.destroyAllWindows()"
   ]
  },
  {
   "cell_type": "code",
   "execution_count": 138,
   "id": "5ac924f3",
   "metadata": {},
   "outputs": [],
   "source": [
    "photo2[5:250,125:350]=crop_one"
   ]
  },
  {
   "cell_type": "code",
   "execution_count": 139,
   "id": "659d0fcb",
   "metadata": {},
   "outputs": [],
   "source": [
    "cv2.imshow('crop2',photo2)\n",
    "cv2.waitKey()\n",
    "cv2.destroyAllWindows()"
   ]
  },
  {
   "cell_type": "code",
   "execution_count": 140,
   "id": "fe2aeab8",
   "metadata": {},
   "outputs": [],
   "source": [
    "photo2=cv2.imread('virat.jpg')"
   ]
  },
  {
   "cell_type": "code",
   "execution_count": 141,
   "id": "080ba821",
   "metadata": {},
   "outputs": [],
   "source": [
    "#image = cv2.rectangle(photo2, (125,5), (350,250), (255,0,0), 2)"
   ]
  },
  {
   "cell_type": "code",
   "execution_count": 142,
   "id": "32a1ed24",
   "metadata": {},
   "outputs": [],
   "source": [
    "#cv2.imshow('crop2',image)\n",
    "#cv2.waitKey()\n",
    "#cv2.destroyAllWindows()"
   ]
  },
  {
   "cell_type": "code",
   "execution_count": null,
   "id": "c56c3dc2",
   "metadata": {},
   "outputs": [],
   "source": []
  },
  {
   "cell_type": "code",
   "execution_count": 143,
   "id": "240a4c35",
   "metadata": {},
   "outputs": [],
   "source": [
    "crop_two = photo2[5:250,125:350]"
   ]
  },
  {
   "cell_type": "code",
   "execution_count": 144,
   "id": "d71e9020",
   "metadata": {},
   "outputs": [],
   "source": [
    "cv2.imshow('crop2',crop_two)\n",
    "cv2.waitKey()\n",
    "cv2.destroyAllWindows()"
   ]
  },
  {
   "cell_type": "code",
   "execution_count": 145,
   "id": "cd08088c",
   "metadata": {},
   "outputs": [
    {
     "data": {
      "text/plain": [
       "(245, 225, 3)"
      ]
     },
     "execution_count": 145,
     "metadata": {},
     "output_type": "execute_result"
    }
   ],
   "source": [
    "crop_two.shape"
   ]
  },
  {
   "cell_type": "code",
   "execution_count": 130,
   "id": "479cf932",
   "metadata": {},
   "outputs": [],
   "source": [
    " \n",
    " "
   ]
  },
  {
   "cell_type": "code",
   "execution_count": 131,
   "id": "52edc48f",
   "metadata": {},
   "outputs": [],
   "source": [
    "cv2.imshow('crop2',photo2)\n",
    "cv2.waitKey()\n",
    "cv2.destroyAllWindows()"
   ]
  },
  {
   "cell_type": "code",
   "execution_count": 146,
   "id": "2fc324ca",
   "metadata": {},
   "outputs": [],
   "source": [
    "photo1[70:315,212:437]= crop_two "
   ]
  },
  {
   "cell_type": "code",
   "execution_count": 147,
   "id": "d005dc7b",
   "metadata": {},
   "outputs": [],
   "source": [
    "cv2.imshow('crop3',photo1)\n",
    "cv2.waitKey()\n",
    "cv2.destroyAllWindows()"
   ]
  },
  {
   "cell_type": "code",
   "execution_count": null,
   "id": "62717012",
   "metadata": {},
   "outputs": [],
   "source": []
  }
 ],
 "metadata": {
  "kernelspec": {
   "display_name": "Python 3",
   "language": "python",
   "name": "python3"
  },
  "language_info": {
   "codemirror_mode": {
    "name": "ipython",
    "version": 3
   },
   "file_extension": ".py",
   "mimetype": "text/x-python",
   "name": "python",
   "nbconvert_exporter": "python",
   "pygments_lexer": "ipython3",
   "version": "3.9.1"
  }
 },
 "nbformat": 4,
 "nbformat_minor": 5
}
