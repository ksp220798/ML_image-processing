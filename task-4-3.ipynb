{
 "cells": [
  {
   "cell_type": "code",
   "execution_count": 22,
   "id": "198e8357",
   "metadata": {},
   "outputs": [],
   "source": [
    "#importing libraries\n",
    "\n",
    "import cv2       \n",
    "import numpy as np"
   ]
  },
  {
   "cell_type": "code",
   "execution_count": 23,
   "id": "2236e35b",
   "metadata": {},
   "outputs": [],
   "source": [
    "photo1=cv2.imread('dhoni.png')"
   ]
  },
  {
   "cell_type": "code",
   "execution_count": 24,
   "id": "700a32ec",
   "metadata": {},
   "outputs": [
    {
     "data": {
      "text/plain": [
       "(568, 568, 3)"
      ]
     },
     "execution_count": 24,
     "metadata": {},
     "output_type": "execute_result"
    }
   ],
   "source": [
    "photo1.shape"
   ]
  },
  {
   "cell_type": "code",
   "execution_count": 25,
   "id": "3a608eac",
   "metadata": {},
   "outputs": [],
   "source": [
    "cv2.imshow('pic1',photo1)\n",
    "cv2.waitKey()\n",
    "cv2.destroyAllWindows()"
   ]
  },
  {
   "cell_type": "code",
   "execution_count": 26,
   "id": "7ac95f2f",
   "metadata": {},
   "outputs": [],
   "source": [
    "crop=photo1[:509,]"
   ]
  },
  {
   "cell_type": "code",
   "execution_count": 27,
   "id": "b685cab7",
   "metadata": {},
   "outputs": [
    {
     "data": {
      "text/plain": [
       "(509, 568, 3)"
      ]
     },
     "execution_count": 27,
     "metadata": {},
     "output_type": "execute_result"
    }
   ],
   "source": [
    "crop.shape"
   ]
  },
  {
   "cell_type": "code",
   "execution_count": 28,
   "id": "561bd138",
   "metadata": {},
   "outputs": [],
   "source": [
    "crop2=crop[:,100:450]"
   ]
  },
  {
   "cell_type": "code",
   "execution_count": 29,
   "id": "45d45118",
   "metadata": {},
   "outputs": [
    {
     "data": {
      "text/plain": [
       "(509, 350, 3)"
      ]
     },
     "execution_count": 29,
     "metadata": {},
     "output_type": "execute_result"
    }
   ],
   "source": [
    "crop2.shape"
   ]
  },
  {
   "cell_type": "code",
   "execution_count": 30,
   "id": "85945566",
   "metadata": {},
   "outputs": [],
   "source": [
    "cv2.imshow('pic2',crop2)\n",
    "cv2.waitKey()\n",
    "cv2.destroyAllWindows()"
   ]
  },
  {
   "cell_type": "code",
   "execution_count": 31,
   "id": "01e9f085",
   "metadata": {},
   "outputs": [],
   "source": [
    "photo2=cv2.imread('v.png')"
   ]
  },
  {
   "cell_type": "code",
   "execution_count": 32,
   "id": "b41c2626",
   "metadata": {},
   "outputs": [
    {
     "data": {
      "text/plain": [
       "(509, 350, 3)"
      ]
     },
     "execution_count": 32,
     "metadata": {},
     "output_type": "execute_result"
    }
   ],
   "source": [
    "photo2.shape"
   ]
  },
  {
   "cell_type": "code",
   "execution_count": 33,
   "id": "92d8b035",
   "metadata": {},
   "outputs": [],
   "source": [
    "cv2.imshow('pic2',photo2)\n",
    "cv2.waitKey()\n",
    "cv2.destroyAllWindows()"
   ]
  },
  {
   "cell_type": "code",
   "execution_count": 34,
   "id": "8c8815e6",
   "metadata": {},
   "outputs": [],
   "source": [
    "photo_collage=np.concatenate((crop2,photo2),axis=1)"
   ]
  },
  {
   "cell_type": "code",
   "execution_count": 35,
   "id": "97fc27ee",
   "metadata": {},
   "outputs": [],
   "source": [
    "cv2.imshow('pic2',photo_collage)\n",
    "cv2.waitKey()\n",
    "cv2.destroyAllWindows()"
   ]
  },
  {
   "cell_type": "code",
   "execution_count": null,
   "id": "e9641aeb",
   "metadata": {},
   "outputs": [],
   "source": []
  }
 ],
 "metadata": {
  "kernelspec": {
   "display_name": "Python 3",
   "language": "python",
   "name": "python3"
  },
  "language_info": {
   "codemirror_mode": {
    "name": "ipython",
    "version": 3
   },
   "file_extension": ".py",
   "mimetype": "text/x-python",
   "name": "python",
   "nbconvert_exporter": "python",
   "pygments_lexer": "ipython3",
   "version": "3.9.1"
  }
 },
 "nbformat": 4,
 "nbformat_minor": 5
}
